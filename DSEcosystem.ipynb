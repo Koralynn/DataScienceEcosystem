{
 "cells": [
  {
   "cell_type": "markdown",
   "id": "b81235b1-e3e4-474d-a42f-b61ee50e4445",
   "metadata": {},
   "source": [
    "# Data Science Tools and Ecosystem"
   ]
  },
  {
   "cell_type": "markdown",
   "id": "1df926de-74ab-4f92-92c9-ea5d54f614b6",
   "metadata": {},
   "source": [
    "In the notebook, Data Science Tools and Ecosystem are summarized spectacularly."
   ]
  },
  {
   "cell_type": "markdown",
   "id": "d726f042-d823-4c1c-a2ef-f0bb1062ec67",
   "metadata": {},
   "source": [
    "**Objectives:**\n",
    "- List popular languages used in Data Science\n",
    "- List some libraries commonly used in Data Science\n",
    "- Give a few examples of simple arithmetic expressions in Python"
   ]
  },
  {
   "cell_type": "markdown",
   "id": "a49d7d60-63fe-4504-a579-adc4ccfdbab5",
   "metadata": {},
   "source": [
    "Some of the popular languages that Data Scientists use are:\n",
    "1. Python\n",
    "2. 2R\n",
    "3. SQL"
   ]
  },
  {
   "cell_type": "markdown",
   "id": "9ad98332-1c2a-4584-a6f4-1974f5997cfa",
   "metadata": {},
   "source": [
    "A few libraries most commonly used by Data Scientists include:\n",
    "1. Pandas\n",
    "2. NumPy\n",
    "3. Matplotlib\n",
    "4. SciPy"
   ]
  },
  {
   "cell_type": "markdown",
   "id": "d29d49d5-9957-48a2-9ab6-fea3d294caf1",
   "metadata": {},
   "source": [
    "| Data Science Tools |\n",
    "---------------------\n",
    "| Git |\n",
    "| Apache AirFlow |\n",
    "| KubeFlow |"
   ]
  },
  {
   "cell_type": "markdown",
   "id": "cd759f8b-6630-429d-9d16-1c1551ec3763",
   "metadata": {},
   "source": [
    "### Below are a few examples of evaluating arithmetic expressions in Python"
   ]
  },
  {
   "cell_type": "code",
   "execution_count": null,
   "id": "53061118-7ad5-4faf-b883-22aafe25a9ca",
   "metadata": {},
   "outputs": [],
   "source": []
  }
 ],
 "metadata": {
  "kernelspec": {
   "display_name": "Python",
   "language": "python",
   "name": "conda-env-python-py"
  },
  "language_info": {
   "codemirror_mode": {
    "name": "ipython",
    "version": 3
   },
   "file_extension": ".py",
   "mimetype": "text/x-python",
   "name": "python",
   "nbconvert_exporter": "python",
   "pygments_lexer": "ipython3",
   "version": "3.7.12"
  }
 },
 "nbformat": 4,
 "nbformat_minor": 5
}
